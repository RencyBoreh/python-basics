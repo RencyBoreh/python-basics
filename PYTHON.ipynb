{
 "cells": [
  {
   "cell_type": "code",
   "execution_count": 4,
   "id": "9cbee121-2c7a-4cff-958c-203e08f2e7b6",
   "metadata": {},
   "outputs": [
    {
     "name": "stdout",
     "output_type": "stream",
     "text": [
      "Help on class str in module builtins:\n",
      "\n",
      "class str(object)\n",
      " |  str(object='') -> str\n",
      " |  str(bytes_or_buffer[, encoding[, errors]]) -> str\n",
      " |\n",
      " |  Create a new string object from the given object. If encoding or\n",
      " |  errors is specified, then the object must expose a data buffer\n",
      " |  that will be decoded using the given encoding and error handler.\n",
      " |  Otherwise, returns the result of object.__str__() (if defined)\n",
      " |  or repr(object).\n",
      " |  encoding defaults to sys.getdefaultencoding().\n",
      " |  errors defaults to 'strict'.\n",
      " |\n",
      " |  Methods defined here:\n",
      " |\n",
      " |  __add__(self, value, /)\n",
      " |      Return self+value.\n",
      " |\n",
      " |  __contains__(self, key, /)\n",
      " |      Return bool(key in self).\n",
      " |\n",
      " |  __eq__(self, value, /)\n",
      " |      Return self==value.\n",
      " |\n",
      " |  __format__(self, format_spec, /)\n",
      " |      Return a formatted version of the string as described by format_spec.\n",
      " |\n",
      " |  __ge__(self, value, /)\n",
      " |      Return self>=value.\n",
      " |\n",
      " |  __getattribute__(self, name, /)\n",
      " |      Return getattr(self, name).\n",
      " |\n",
      " |  __getitem__(self, key, /)\n",
      " |      Return self[key].\n",
      " |\n",
      " |  __getnewargs__(...)\n",
      " |\n",
      " |  __gt__(self, value, /)\n",
      " |      Return self>value.\n",
      " |\n",
      " |  __hash__(self, /)\n",
      " |      Return hash(self).\n",
      " |\n",
      " |  __iter__(self, /)\n",
      " |      Implement iter(self).\n",
      " |\n",
      " |  __le__(self, value, /)\n",
      " |      Return self<=value.\n",
      " |\n",
      " |  __len__(self, /)\n",
      " |      Return len(self).\n",
      " |\n",
      " |  __lt__(self, value, /)\n",
      " |      Return self<value.\n",
      " |\n",
      " |  __mod__(self, value, /)\n",
      " |      Return self%value.\n",
      " |\n",
      " |  __mul__(self, value, /)\n",
      " |      Return self*value.\n",
      " |\n",
      " |  __ne__(self, value, /)\n",
      " |      Return self!=value.\n",
      " |\n",
      " |  __repr__(self, /)\n",
      " |      Return repr(self).\n",
      " |\n",
      " |  __rmod__(self, value, /)\n",
      " |      Return value%self.\n",
      " |\n",
      " |  __rmul__(self, value, /)\n",
      " |      Return value*self.\n",
      " |\n",
      " |  __sizeof__(self, /)\n",
      " |      Return the size of the string in memory, in bytes.\n",
      " |\n",
      " |  __str__(self, /)\n",
      " |      Return str(self).\n",
      " |\n",
      " |  capitalize(self, /)\n",
      " |      Return a capitalized version of the string.\n",
      " |\n",
      " |      More specifically, make the first character have upper case and the rest lower\n",
      " |      case.\n",
      " |\n",
      " |  casefold(self, /)\n",
      " |      Return a version of the string suitable for caseless comparisons.\n",
      " |\n",
      " |  center(self, width, fillchar=' ', /)\n",
      " |      Return a centered string of length width.\n",
      " |\n",
      " |      Padding is done using the specified fill character (default is a space).\n",
      " |\n",
      " |  count(...)\n",
      " |      S.count(sub[, start[, end]]) -> int\n",
      " |\n",
      " |      Return the number of non-overlapping occurrences of substring sub in\n",
      " |      string S[start:end].  Optional arguments start and end are\n",
      " |      interpreted as in slice notation.\n",
      " |\n",
      " |  encode(self, /, encoding='utf-8', errors='strict')\n",
      " |      Encode the string using the codec registered for encoding.\n",
      " |\n",
      " |      encoding\n",
      " |        The encoding in which to encode the string.\n",
      " |      errors\n",
      " |        The error handling scheme to use for encoding errors.\n",
      " |        The default is 'strict' meaning that encoding errors raise a\n",
      " |        UnicodeEncodeError.  Other possible values are 'ignore', 'replace' and\n",
      " |        'xmlcharrefreplace' as well as any other name registered with\n",
      " |        codecs.register_error that can handle UnicodeEncodeErrors.\n",
      " |\n",
      " |  endswith(...)\n",
      " |      S.endswith(suffix[, start[, end]]) -> bool\n",
      " |\n",
      " |      Return True if S ends with the specified suffix, False otherwise.\n",
      " |      With optional start, test S beginning at that position.\n",
      " |      With optional end, stop comparing S at that position.\n",
      " |      suffix can also be a tuple of strings to try.\n",
      " |\n",
      " |  expandtabs(self, /, tabsize=8)\n",
      " |      Return a copy where all tab characters are expanded using spaces.\n",
      " |\n",
      " |      If tabsize is not given, a tab size of 8 characters is assumed.\n",
      " |\n",
      " |  find(...)\n",
      " |      S.find(sub[, start[, end]]) -> int\n",
      " |\n",
      " |      Return the lowest index in S where substring sub is found,\n",
      " |      such that sub is contained within S[start:end].  Optional\n",
      " |      arguments start and end are interpreted as in slice notation.\n",
      " |\n",
      " |      Return -1 on failure.\n",
      " |\n",
      " |  format(...)\n",
      " |      S.format(*args, **kwargs) -> str\n",
      " |\n",
      " |      Return a formatted version of S, using substitutions from args and kwargs.\n",
      " |      The substitutions are identified by braces ('{' and '}').\n",
      " |\n",
      " |  format_map(...)\n",
      " |      S.format_map(mapping) -> str\n",
      " |\n",
      " |      Return a formatted version of S, using substitutions from mapping.\n",
      " |      The substitutions are identified by braces ('{' and '}').\n",
      " |\n",
      " |  index(...)\n",
      " |      S.index(sub[, start[, end]]) -> int\n",
      " |\n",
      " |      Return the lowest index in S where substring sub is found,\n",
      " |      such that sub is contained within S[start:end].  Optional\n",
      " |      arguments start and end are interpreted as in slice notation.\n",
      " |\n",
      " |      Raises ValueError when the substring is not found.\n",
      " |\n",
      " |  isalnum(self, /)\n",
      " |      Return True if the string is an alpha-numeric string, False otherwise.\n",
      " |\n",
      " |      A string is alpha-numeric if all characters in the string are alpha-numeric and\n",
      " |      there is at least one character in the string.\n",
      " |\n",
      " |  isalpha(self, /)\n",
      " |      Return True if the string is an alphabetic string, False otherwise.\n",
      " |\n",
      " |      A string is alphabetic if all characters in the string are alphabetic and there\n",
      " |      is at least one character in the string.\n",
      " |\n",
      " |  isascii(self, /)\n",
      " |      Return True if all characters in the string are ASCII, False otherwise.\n",
      " |\n",
      " |      ASCII characters have code points in the range U+0000-U+007F.\n",
      " |      Empty string is ASCII too.\n",
      " |\n",
      " |  isdecimal(self, /)\n",
      " |      Return True if the string is a decimal string, False otherwise.\n",
      " |\n",
      " |      A string is a decimal string if all characters in the string are decimal and\n",
      " |      there is at least one character in the string.\n",
      " |\n",
      " |  isdigit(self, /)\n",
      " |      Return True if the string is a digit string, False otherwise.\n",
      " |\n",
      " |      A string is a digit string if all characters in the string are digits and there\n",
      " |      is at least one character in the string.\n",
      " |\n",
      " |  isidentifier(self, /)\n",
      " |      Return True if the string is a valid Python identifier, False otherwise.\n",
      " |\n",
      " |      Call keyword.iskeyword(s) to test whether string s is a reserved identifier,\n",
      " |      such as \"def\" or \"class\".\n",
      " |\n",
      " |  islower(self, /)\n",
      " |      Return True if the string is a lowercase string, False otherwise.\n",
      " |\n",
      " |      A string is lowercase if all cased characters in the string are lowercase and\n",
      " |      there is at least one cased character in the string.\n",
      " |\n",
      " |  isnumeric(self, /)\n",
      " |      Return True if the string is a numeric string, False otherwise.\n",
      " |\n",
      " |      A string is numeric if all characters in the string are numeric and there is at\n",
      " |      least one character in the string.\n",
      " |\n",
      " |  isprintable(self, /)\n",
      " |      Return True if the string is printable, False otherwise.\n",
      " |\n",
      " |      A string is printable if all of its characters are considered printable in\n",
      " |      repr() or if it is empty.\n",
      " |\n",
      " |  isspace(self, /)\n",
      " |      Return True if the string is a whitespace string, False otherwise.\n",
      " |\n",
      " |      A string is whitespace if all characters in the string are whitespace and there\n",
      " |      is at least one character in the string.\n",
      " |\n",
      " |  istitle(self, /)\n",
      " |      Return True if the string is a title-cased string, False otherwise.\n",
      " |\n",
      " |      In a title-cased string, upper- and title-case characters may only\n",
      " |      follow uncased characters and lowercase characters only cased ones.\n",
      " |\n",
      " |  isupper(self, /)\n",
      " |      Return True if the string is an uppercase string, False otherwise.\n",
      " |\n",
      " |      A string is uppercase if all cased characters in the string are uppercase and\n",
      " |      there is at least one cased character in the string.\n",
      " |\n",
      " |  join(self, iterable, /)\n",
      " |      Concatenate any number of strings.\n",
      " |\n",
      " |      The string whose method is called is inserted in between each given string.\n",
      " |      The result is returned as a new string.\n",
      " |\n",
      " |      Example: '.'.join(['ab', 'pq', 'rs']) -> 'ab.pq.rs'\n",
      " |\n",
      " |  ljust(self, width, fillchar=' ', /)\n",
      " |      Return a left-justified string of length width.\n",
      " |\n",
      " |      Padding is done using the specified fill character (default is a space).\n",
      " |\n",
      " |  lower(self, /)\n",
      " |      Return a copy of the string converted to lowercase.\n",
      " |\n",
      " |  lstrip(self, chars=None, /)\n",
      " |      Return a copy of the string with leading whitespace removed.\n",
      " |\n",
      " |      If chars is given and not None, remove characters in chars instead.\n",
      " |\n",
      " |  partition(self, sep, /)\n",
      " |      Partition the string into three parts using the given separator.\n",
      " |\n",
      " |      This will search for the separator in the string.  If the separator is found,\n",
      " |      returns a 3-tuple containing the part before the separator, the separator\n",
      " |      itself, and the part after it.\n",
      " |\n",
      " |      If the separator is not found, returns a 3-tuple containing the original string\n",
      " |      and two empty strings.\n",
      " |\n",
      " |  removeprefix(self, prefix, /)\n",
      " |      Return a str with the given prefix string removed if present.\n",
      " |\n",
      " |      If the string starts with the prefix string, return string[len(prefix):].\n",
      " |      Otherwise, return a copy of the original string.\n",
      " |\n",
      " |  removesuffix(self, suffix, /)\n",
      " |      Return a str with the given suffix string removed if present.\n",
      " |\n",
      " |      If the string ends with the suffix string and that suffix is not empty,\n",
      " |      return string[:-len(suffix)]. Otherwise, return a copy of the original\n",
      " |      string.\n",
      " |\n",
      " |  replace(self, old, new, count=-1, /)\n",
      " |      Return a copy with all occurrences of substring old replaced by new.\n",
      " |\n",
      " |        count\n",
      " |          Maximum number of occurrences to replace.\n",
      " |          -1 (the default value) means replace all occurrences.\n",
      " |\n",
      " |      If the optional argument count is given, only the first count occurrences are\n",
      " |      replaced.\n",
      " |\n",
      " |  rfind(...)\n",
      " |      S.rfind(sub[, start[, end]]) -> int\n",
      " |\n",
      " |      Return the highest index in S where substring sub is found,\n",
      " |      such that sub is contained within S[start:end].  Optional\n",
      " |      arguments start and end are interpreted as in slice notation.\n",
      " |\n",
      " |      Return -1 on failure.\n",
      " |\n",
      " |  rindex(...)\n",
      " |      S.rindex(sub[, start[, end]]) -> int\n",
      " |\n",
      " |      Return the highest index in S where substring sub is found,\n",
      " |      such that sub is contained within S[start:end].  Optional\n",
      " |      arguments start and end are interpreted as in slice notation.\n",
      " |\n",
      " |      Raises ValueError when the substring is not found.\n",
      " |\n",
      " |  rjust(self, width, fillchar=' ', /)\n",
      " |      Return a right-justified string of length width.\n",
      " |\n",
      " |      Padding is done using the specified fill character (default is a space).\n",
      " |\n",
      " |  rpartition(self, sep, /)\n",
      " |      Partition the string into three parts using the given separator.\n",
      " |\n",
      " |      This will search for the separator in the string, starting at the end. If\n",
      " |      the separator is found, returns a 3-tuple containing the part before the\n",
      " |      separator, the separator itself, and the part after it.\n",
      " |\n",
      " |      If the separator is not found, returns a 3-tuple containing two empty strings\n",
      " |      and the original string.\n",
      " |\n",
      " |  rsplit(self, /, sep=None, maxsplit=-1)\n",
      " |      Return a list of the substrings in the string, using sep as the separator string.\n",
      " |\n",
      " |        sep\n",
      " |          The separator used to split the string.\n",
      " |\n",
      " |          When set to None (the default value), will split on any whitespace\n",
      " |          character (including \\n \\r \\t \\f and spaces) and will discard\n",
      " |          empty strings from the result.\n",
      " |        maxsplit\n",
      " |          Maximum number of splits.\n",
      " |          -1 (the default value) means no limit.\n",
      " |\n",
      " |      Splitting starts at the end of the string and works to the front.\n",
      " |\n",
      " |  rstrip(self, chars=None, /)\n",
      " |      Return a copy of the string with trailing whitespace removed.\n",
      " |\n",
      " |      If chars is given and not None, remove characters in chars instead.\n",
      " |\n",
      " |  split(self, /, sep=None, maxsplit=-1)\n",
      " |      Return a list of the substrings in the string, using sep as the separator string.\n",
      " |\n",
      " |        sep\n",
      " |          The separator used to split the string.\n",
      " |\n",
      " |          When set to None (the default value), will split on any whitespace\n",
      " |          character (including \\n \\r \\t \\f and spaces) and will discard\n",
      " |          empty strings from the result.\n",
      " |        maxsplit\n",
      " |          Maximum number of splits.\n",
      " |          -1 (the default value) means no limit.\n",
      " |\n",
      " |      Splitting starts at the front of the string and works to the end.\n",
      " |\n",
      " |      Note, str.split() is mainly useful for data that has been intentionally\n",
      " |      delimited.  With natural text that includes punctuation, consider using\n",
      " |      the regular expression module.\n",
      " |\n",
      " |  splitlines(self, /, keepends=False)\n",
      " |      Return a list of the lines in the string, breaking at line boundaries.\n",
      " |\n",
      " |      Line breaks are not included in the resulting list unless keepends is given and\n",
      " |      true.\n",
      " |\n",
      " |  startswith(...)\n",
      " |      S.startswith(prefix[, start[, end]]) -> bool\n",
      " |\n",
      " |      Return True if S starts with the specified prefix, False otherwise.\n",
      " |      With optional start, test S beginning at that position.\n",
      " |      With optional end, stop comparing S at that position.\n",
      " |      prefix can also be a tuple of strings to try.\n",
      " |\n",
      " |  strip(self, chars=None, /)\n",
      " |      Return a copy of the string with leading and trailing whitespace removed.\n",
      " |\n",
      " |      If chars is given and not None, remove characters in chars instead.\n",
      " |\n",
      " |  swapcase(self, /)\n",
      " |      Convert uppercase characters to lowercase and lowercase characters to uppercase.\n",
      " |\n",
      " |  title(self, /)\n",
      " |      Return a version of the string where each word is titlecased.\n",
      " |\n",
      " |      More specifically, words start with uppercased characters and all remaining\n",
      " |      cased characters have lower case.\n",
      " |\n",
      " |  translate(self, table, /)\n",
      " |      Replace each character in the string using the given translation table.\n",
      " |\n",
      " |        table\n",
      " |          Translation table, which must be a mapping of Unicode ordinals to\n",
      " |          Unicode ordinals, strings, or None.\n",
      " |\n",
      " |      The table must implement lookup/indexing via __getitem__, for instance a\n",
      " |      dictionary or list.  If this operation raises LookupError, the character is\n",
      " |      left untouched.  Characters mapped to None are deleted.\n",
      " |\n",
      " |  upper(self, /)\n",
      " |      Return a copy of the string converted to uppercase.\n",
      " |\n",
      " |  zfill(self, width, /)\n",
      " |      Pad a numeric string with zeros on the left, to fill a field of the given width.\n",
      " |\n",
      " |      The string is never truncated.\n",
      " |\n",
      " |  ----------------------------------------------------------------------\n",
      " |  Static methods defined here:\n",
      " |\n",
      " |  __new__(*args, **kwargs)\n",
      " |      Create and return a new object.  See help(type) for accurate signature.\n",
      " |\n",
      " |  maketrans(...)\n",
      " |      Return a translation table usable for str.translate().\n",
      " |\n",
      " |      If there is only one argument, it must be a dictionary mapping Unicode\n",
      " |      ordinals (integers) or characters to Unicode ordinals, strings or None.\n",
      " |      Character keys will be then converted to ordinals.\n",
      " |      If there are two arguments, they must be strings of equal length, and\n",
      " |      in the resulting dictionary, each character in x will be mapped to the\n",
      " |      character at the same position in y. If there is a third argument, it\n",
      " |      must be a string, whose characters will be mapped to None in the result.\n",
      "\n"
     ]
    }
   ],
   "source": [
    "help('str')"
   ]
  },
  {
   "cell_type": "code",
   "execution_count": 5,
   "id": "f60c00d3-10cb-4c86-bcb1-5b15f8dfd58c",
   "metadata": {},
   "outputs": [
    {
     "data": {
      "text/plain": [
       "'Rency'"
      ]
     },
     "execution_count": 5,
     "metadata": {},
     "output_type": "execute_result"
    }
   ],
   "source": [
    "name='Rency'\n",
    "name"
   ]
  },
  {
   "cell_type": "code",
   "execution_count": 8,
   "id": "e5cb444b-617f-4d65-b6ce-0d334572a416",
   "metadata": {},
   "outputs": [
    {
     "data": {
      "text/plain": [
       "1681631370512"
      ]
     },
     "execution_count": 8,
     "metadata": {},
     "output_type": "execute_result"
    }
   ],
   "source": [
    "id(name)"
   ]
  },
  {
   "cell_type": "code",
   "execution_count": 10,
   "id": "6064fa2f-900f-4585-95b9-18f0d2dd0739",
   "metadata": {},
   "outputs": [
    {
     "data": {
      "text/plain": [
       "'Rency'"
      ]
     },
     "execution_count": 10,
     "metadata": {},
     "output_type": "execute_result"
    }
   ],
   "source": [
    "name1=name\n",
    "name1"
   ]
  },
  {
   "cell_type": "code",
   "execution_count": 12,
   "id": "ee3be916-c89b-4681-9a63-5d9c230c526f",
   "metadata": {},
   "outputs": [
    {
     "data": {
      "text/plain": [
       "1681631370512"
      ]
     },
     "execution_count": 12,
     "metadata": {},
     "output_type": "execute_result"
    }
   ],
   "source": [
    "id(name1)"
   ]
  },
  {
   "cell_type": "code",
   "execution_count": 30,
   "id": "4435846a-d0e5-47b5-8259-127aa57e6df4",
   "metadata": {},
   "outputs": [
    {
     "name": "stdout",
     "output_type": "stream",
     "text": [
      "JOB:           Data Analyst\n",
      "LOCATION:      United States\n",
      "SALARY:        90000\n"
     ]
    }
   ],
   "source": [
    "job_title='Data Analyst'\n",
    "job_location='United States'\n",
    "job_salary=90000\n",
    "print(f\"JOB:           {job_title}\\nLOCATION:      {job_location}\\nSALARY:        {job_salary}\")"
   ]
  },
  {
   "cell_type": "code",
   "execution_count": 32,
   "id": "57f5226a-0c28-42aa-9416-d1eed7919e9c",
   "metadata": {},
   "outputs": [
    {
     "name": "stdout",
     "output_type": "stream",
     "text": [
      "JOB:     Data Analyst\n",
      "LOCATION:  United States\n",
      "SALARY:  100000\n"
     ]
    }
   ],
   "source": [
    "def job_info(title,location,salary):\n",
    "    return print(f\"JOB:     {title}\\nLOCATION:  {location}\\nSALARY:  {salary}\")\n",
    "job_info(\"Data Analyst\",\"United States\",100000)"
   ]
  },
  {
   "cell_type": "code",
   "execution_count": 34,
   "id": "778db4ab-fe9f-4236-9954-0759d9acbf2f",
   "metadata": {},
   "outputs": [
    {
     "data": {
      "text/plain": [
       "107000"
      ]
     },
     "execution_count": 34,
     "metadata": {},
     "output_type": "execute_result"
    }
   ],
   "source": [
    "total_salary=120000\n",
    "bonus_salary=13000\n",
    "base_salary=total_salary - bonus_salary\n",
    "base_salary\n"
   ]
  },
  {
   "cell_type": "code",
   "execution_count": 40,
   "id": "50177f39-cab4-4406-82ba-d420abfcfc88",
   "metadata": {},
   "outputs": [
    {
     "data": {
      "text/plain": [
       "int"
      ]
     },
     "execution_count": 40,
     "metadata": {},
     "output_type": "execute_result"
    }
   ],
   "source": [
    "type(base_salary)"
   ]
  },
  {
   "cell_type": "code",
   "execution_count": 42,
   "id": "7fdb80c9-2969-4665-9b77-b89401b0c36f",
   "metadata": {},
   "outputs": [
    {
     "data": {
      "text/plain": [
       "(20+1j)"
      ]
     },
     "execution_count": 42,
     "metadata": {},
     "output_type": "execute_result"
    }
   ],
   "source": [
    "num1=1j\n",
    "num2=20\n",
    "num3=num1+num2\n",
    "num3"
   ]
  },
  {
   "cell_type": "code",
   "execution_count": 44,
   "id": "4a7c1031-3ccd-41e2-8ab7-75b666d40fb9",
   "metadata": {},
   "outputs": [
    {
     "data": {
      "text/plain": [
       "complex"
      ]
     },
     "execution_count": 44,
     "metadata": {},
     "output_type": "execute_result"
    }
   ],
   "source": [
    "type(num3)"
   ]
  },
  {
   "cell_type": "code",
   "execution_count": 50,
   "id": "1a938e57-2af8-406d-857e-2c0c3450cd8a",
   "metadata": {},
   "outputs": [
    {
     "data": {
      "text/plain": [
       "'rency boreh'"
      ]
     },
     "execution_count": 50,
     "metadata": {},
     "output_type": "execute_result"
    }
   ],
   "source": [
    "name=\"rency boreh\"\n",
    "name"
   ]
  },
  {
   "cell_type": "code",
   "execution_count": 52,
   "id": "dc153fdb-1a84-4c12-b6dc-dd458da23d86",
   "metadata": {},
   "outputs": [
    {
     "data": {
      "text/plain": [
       "'Rency boreh'"
      ]
     },
     "execution_count": 52,
     "metadata": {},
     "output_type": "execute_result"
    }
   ],
   "source": [
    "name.capitalize()"
   ]
  },
  {
   "cell_type": "code",
   "execution_count": 54,
   "id": "a0495d4d-e692-47e9-8934-8a5b1d9ba155",
   "metadata": {},
   "outputs": [
    {
     "data": {
      "text/plain": [
       "'RENCY BOREH'"
      ]
     },
     "execution_count": 54,
     "metadata": {},
     "output_type": "execute_result"
    }
   ],
   "source": [
    "name.upper()"
   ]
  },
  {
   "cell_type": "code",
   "execution_count": 56,
   "id": "9dd0399d-baec-4f76-bc48-588084f62980",
   "metadata": {},
   "outputs": [
    {
     "data": {
      "text/plain": [
       "'my name is rency boreh'"
      ]
     },
     "execution_count": 56,
     "metadata": {},
     "output_type": "execute_result"
    }
   ],
   "source": [
    "names=f'my name is {name}'\n",
    "names"
   ]
  },
  {
   "cell_type": "code",
   "execution_count": 64,
   "id": "30287edc-3f7c-4baf-a7f0-2e49f07ecf55",
   "metadata": {},
   "outputs": [
    {
     "data": {
      "text/plain": [
       "'rescy boreh'"
      ]
     },
     "execution_count": 64,
     "metadata": {},
     "output_type": "execute_result"
    }
   ],
   "source": [
    "name=name.replace(\"n\",\"s\")\n",
    "name"
   ]
  },
  {
   "cell_type": "code",
   "execution_count": 78,
   "id": "07bc20fe-2776-4e3d-a36a-c4d2b7e95f5b",
   "metadata": {},
   "outputs": [
    {
     "data": {
      "text/plain": [
       "'Roreh'"
      ]
     },
     "execution_count": 78,
     "metadata": {},
     "output_type": "execute_result"
    }
   ],
   "source": [
    "name1=\"Boreh\"\n",
    "name1=name1.replace(\"B\",\"R\")\n",
    "name1"
   ]
  },
  {
   "cell_type": "code",
   "execution_count": 82,
   "id": "db4ac5df-7d7a-4f3c-9760-801749b2581b",
   "metadata": {},
   "outputs": [
    {
     "data": {
      "text/plain": [
       "'Roreh Analysts Analysts'"
      ]
     },
     "execution_count": 82,
     "metadata": {},
     "output_type": "execute_result"
    }
   ],
   "source": [
    "name1=name1.__add__(\" Analysts\")\n",
    "name1"
   ]
  },
  {
   "cell_type": "code",
   "execution_count": 84,
   "id": "47bfb040-2b51-4825-9f5b-80ca8e4b960a",
   "metadata": {},
   "outputs": [
    {
     "data": {
      "text/plain": [
       "2.5"
      ]
     },
     "execution_count": 84,
     "metadata": {},
     "output_type": "execute_result"
    }
   ],
   "source": [
    "5/2"
   ]
  },
  {
   "cell_type": "code",
   "execution_count": 86,
   "id": "343fd351-de0f-4a14-b4de-7e75e98fe24f",
   "metadata": {},
   "outputs": [
    {
     "data": {
      "text/plain": [
       "1"
      ]
     },
     "execution_count": 86,
     "metadata": {},
     "output_type": "execute_result"
    }
   ],
   "source": [
    "5%2"
   ]
  },
  {
   "cell_type": "code",
   "execution_count": 88,
   "id": "dcc2a076-1d9b-4781-8a6e-bdce6ffc293a",
   "metadata": {},
   "outputs": [
    {
     "data": {
      "text/plain": [
       "2"
      ]
     },
     "execution_count": 88,
     "metadata": {},
     "output_type": "execute_result"
    }
   ],
   "source": [
    "5//2"
   ]
  },
  {
   "cell_type": "code",
   "execution_count": 92,
   "id": "d26ebbc5-c442-4929-a343-9c1392509f1d",
   "metadata": {},
   "outputs": [
    {
     "data": {
      "text/plain": [
       "True"
      ]
     },
     "execution_count": 92,
     "metadata": {},
     "output_type": "execute_result"
    }
   ],
   "source": [
    "salary1=100\n",
    "salary2=100\n",
    "salary1==salary2"
   ]
  },
  {
   "cell_type": "code",
   "execution_count": 112,
   "id": "45129f59-8469-40f8-936f-c8a3f1bf1b31",
   "metadata": {},
   "outputs": [
    {
     "name": "stdout",
     "output_type": "stream",
     "text": [
      "You are not under Age\n"
     ]
    }
   ],
   "source": [
    "age=20\n",
    "if age<=18:\n",
    " print(\"Under Age\")\n",
    "elif age>=100:\n",
    " print(\"Over Age!\")\n",
    "elif age>=18:\n",
    " print(\"You are not under Age\")\n",
    "else:\n",
    "    print(\"Please enter Your Age!\")\n"
   ]
  },
  {
   "cell_type": "code",
   "execution_count": 116,
   "id": "727c19e9-874d-43b8-9ad4-73e728ef2d5c",
   "metadata": {},
   "outputs": [
    {
     "name": "stdout",
     "output_type": "stream",
     "text": [
      "0\n",
      "1\n",
      "2\n",
      "3\n",
      "4\n",
      "5\n",
      "6\n",
      "7\n",
      "8\n",
      "9\n"
     ]
    }
   ],
   "source": [
    "for x in range(10):\n",
    "    print (x)"
   ]
  },
  {
   "cell_type": "code",
   "execution_count": 133,
   "id": "aeb1d8db-fd9d-4a76-afd0-ad9515def3ea",
   "metadata": {},
   "outputs": [
    {
     "name": "stdout",
     "output_type": "stream",
     "text": [
      "Yes\n"
     ]
    }
   ],
   "source": [
    "name=\"Rency Jeptanui Boreh\"\n",
    "if \"Rency\"  in name:\n",
    "    print(\"Yes\")\n",
    "else:\n",
    "    print(\"NO!\")"
   ]
  },
  {
   "cell_type": "code",
   "execution_count": 135,
   "id": "7dd7be7a-f19b-4d80-a0e6-ada0a1d5c422",
   "metadata": {},
   "outputs": [
    {
     "name": "stdout",
     "output_type": "stream",
     "text": [
      "NO!\n"
     ]
    }
   ],
   "source": [
    "names=\"Rabby Jepkorir Boreh\"\n",
    "if \"Rency\" in names:\n",
    "    print(\"YES!\")\n",
    "else:\n",
    "    print(\"NO!\")"
   ]
  },
  {
   "cell_type": "code",
   "execution_count": 137,
   "id": "75ddb836-1867-4934-a19e-73d883dedc36",
   "metadata": {},
   "outputs": [
    {
     "name": "stdout",
     "output_type": "stream",
     "text": [
      "Rency\n",
      "Jeptanui\n",
      "Boreh\n",
      "Rabby\n",
      "Jepkoror\n",
      "Resly\n",
      "Jerop\n",
      "Rufoh\n",
      "Jeruto\n"
     ]
    }
   ],
   "source": [
    "names=[\"Rency\",\"Jeptanui\",\"Boreh\",\"Rabby\",\"Jepkoror\",\"Resly\",\"Jerop\",\"Rufoh\",\"Jeruto\"]\n",
    "for name in names:\n",
    "    print(name)"
   ]
  },
  {
   "cell_type": "code",
   "execution_count": 141,
   "id": "228e3469-7845-462b-8069-abb0331ab126",
   "metadata": {},
   "outputs": [
    {
     "name": "stdout",
     "output_type": "stream",
     "text": [
      "0\n",
      "1\n",
      "2\n",
      "3\n",
      "4\n",
      "5\n",
      "6\n",
      "7\n",
      "8\n",
      "9\n",
      "10\n",
      "11\n",
      "12\n",
      "13\n",
      "14\n",
      "15\n",
      "16\n",
      "17\n",
      "18\n",
      "19\n",
      "20\n"
     ]
    }
   ],
   "source": [
    "x=0\n",
    "while x<=20:\n",
    "    print(x)\n",
    "    x+=1"
   ]
  },
  {
   "cell_type": "code",
   "execution_count": 143,
   "id": "913a2be4-a846-49fb-a685-0f6cdf3075d2",
   "metadata": {},
   "outputs": [
    {
     "data": {
      "text/plain": [
       "9"
      ]
     },
     "execution_count": 143,
     "metadata": {},
     "output_type": "execute_result"
    }
   ],
   "source": [
    "len(names)"
   ]
  },
  {
   "cell_type": "code",
   "execution_count": 145,
   "id": "71290c3b-bdc3-4e5d-9abe-283132864185",
   "metadata": {},
   "outputs": [
    {
     "name": "stdout",
     "output_type": "stream",
     "text": [
      "1\n",
      "2\n",
      "3\n",
      "4\n",
      "5\n",
      "6\n",
      "7\n",
      "8\n",
      "9\n",
      "66\n",
      "77\n",
      "88\n",
      "99\n"
     ]
    }
   ],
   "source": [
    "numbers=[1,2,3,4,5,6,7,8,9,66,77,88,99]\n",
    "for number in numbers:\n",
    "    print(number)"
   ]
  },
  {
   "cell_type": "code",
   "execution_count": 147,
   "id": "4a126f49-15a8-4bd6-b500-6f78967b952c",
   "metadata": {},
   "outputs": [
    {
     "name": "stdout",
     "output_type": "stream",
     "text": [
      "P\n",
      "Y\n",
      "T\n",
      "H\n",
      "O\n",
      "N\n",
      "2\n",
      "0\n",
      "2\n",
      "1\n"
     ]
    }
   ],
   "source": [
    "characters=\"PYTHON2021\"\n",
    "for character in characters:\n",
    "    print(character)"
   ]
  },
  {
   "cell_type": "code",
   "execution_count": 149,
   "id": "a241bbc7-ac2e-4d48-bac9-7701dabc60b1",
   "metadata": {},
   "outputs": [
    {
     "name": "stdout",
     "output_type": "stream",
     "text": [
      "{'Alice': 15, 'Bob': 27, 'Charlie': 6, 'David': 27, 'Eva': 5, 'Frank': 26, 'Grace': 11, 'Hannah': 7, 'Ivy': 25, 'Jack': 14, 'Karen': 5, 'Leo': 13, 'Mona': 26, 'Nick': 18, 'Olivia': 12, 'Paul': 13, 'Quincy': 3, 'Rachel': 9, 'Steve': 17, 'Tina': 26, 'Uma': 27, 'Victor': 9, 'Wendy': 13, 'Xander': 10, 'Yara': 30}\n"
     ]
    }
   ],
   "source": [
    "import random\n",
    "\n",
    "# List of names\n",
    "names = [\n",
    "    \"Alice\", \"Bob\", \"Charlie\", \"David\", \"Eva\", \"Frank\", \"Grace\", \"Hannah\", \n",
    "    \"Ivy\", \"Jack\", \"Karen\", \"Leo\", \"Mona\", \"Nick\", \"Olivia\", \"Paul\", \n",
    "    \"Quincy\", \"Rachel\", \"Steve\", \"Tina\", \"Uma\", \"Victor\", \"Wendy\", \"Xander\", \"Yara\"\n",
    "]\n",
    "\n",
    "# Dictionary to store years of experience\n",
    "Years_experience = {}\n",
    "\n",
    "# Generate random years of experience for each name\n",
    "for name in names:\n",
    "    Years_experience[name] = random.randint(1, 30)  # Random years of experience between 1 and 30\n",
    "\n",
    "# Print the dictionary\n",
    "print(Years_experience)\n"
   ]
  },
  {
   "cell_type": "code",
   "execution_count": 151,
   "id": "0664d9e3-b1cd-4211-b9a7-c6f8fab4f740",
   "metadata": {},
   "outputs": [
    {
     "name": "stdout",
     "output_type": "stream",
     "text": [
      "Alice\n",
      "Bob\n",
      "Charlie\n",
      "David\n",
      "Eva\n",
      "Frank\n",
      "Grace\n",
      "Hannah\n",
      "Ivy\n",
      "Jack\n",
      "Karen\n",
      "Leo\n",
      "Mona\n",
      "Nick\n",
      "Olivia\n",
      "Paul\n",
      "Quincy\n",
      "Rachel\n",
      "Steve\n",
      "Tina\n",
      "Uma\n",
      "Victor\n",
      "Wendy\n",
      "Xander\n",
      "Yara\n"
     ]
    }
   ],
   "source": [
    "for person in names:\n",
    "    print(person)"
   ]
  },
  {
   "cell_type": "code",
   "execution_count": 157,
   "id": "ae8e706a-1473-4345-b422-6c71b3278379",
   "metadata": {},
   "outputs": [
    {
     "name": "stdout",
     "output_type": "stream",
     "text": [
      "15\n",
      "27\n",
      "6\n",
      "27\n",
      "5\n",
      "26\n",
      "11\n",
      "7\n",
      "25\n",
      "14\n",
      "5\n",
      "13\n",
      "26\n",
      "18\n",
      "12\n",
      "13\n",
      "3\n",
      "9\n",
      "17\n",
      "26\n",
      "27\n",
      "9\n",
      "13\n",
      "10\n",
      "30\n"
     ]
    }
   ],
   "source": [
    "for value in  Years_experience.values():\n",
    "    print(value)"
   ]
  },
  {
   "cell_type": "code",
   "execution_count": 159,
   "id": "37598110-fd94-4199-a7ce-0126b4afaa54",
   "metadata": {},
   "outputs": [
    {
     "name": "stdout",
     "output_type": "stream",
     "text": [
      "Alice 15\n",
      "Bob 27\n",
      "Charlie 6\n",
      "David 27\n",
      "Eva 5\n",
      "Frank 26\n",
      "Grace 11\n",
      "Hannah 7\n",
      "Ivy 25\n",
      "Jack 14\n",
      "Karen 5\n",
      "Leo 13\n",
      "Mona 26\n",
      "Nick 18\n",
      "Olivia 12\n",
      "Paul 13\n",
      "Quincy 3\n",
      "Rachel 9\n",
      "Steve 17\n",
      "Tina 26\n",
      "Uma 27\n",
      "Victor 9\n",
      "Wendy 13\n",
      "Xander 10\n",
      "Yara 30\n"
     ]
    }
   ],
   "source": [
    "for key,value in Years_experience.items():\n",
    "    print(key,value)"
   ]
  },
  {
   "cell_type": "code",
   "execution_count": 162,
   "id": "936c844d-94cf-4e8a-b69d-9a2c6f1d4e77",
   "metadata": {},
   "outputs": [
    {
     "data": {
      "text/plain": [
       "[0, 1, 2, 3, 4, 5, 6, 7, 8, 9, 10, 11, 12, 13, 14, 15, 16, 17, 18, 19]"
      ]
     },
     "execution_count": 162,
     "metadata": {},
     "output_type": "execute_result"
    }
   ],
   "source": [
    "numbers=[]\n",
    "for number in range(20):\n",
    "    numbers.append(number)\n",
    "numbers"
   ]
  },
  {
   "cell_type": "code",
   "execution_count": 164,
   "id": "c4d3670f-479d-405e-bdd2-12a21661c378",
   "metadata": {},
   "outputs": [
    {
     "data": {
      "text/plain": [
       "[0, 1, 2, 3, 4, 5, 6, 7, 8, 9]"
      ]
     },
     "execution_count": 164,
     "metadata": {},
     "output_type": "execute_result"
    }
   ],
   "source": [
    "num=[x for x in range(10)]\n",
    "num"
   ]
  },
  {
   "cell_type": "code",
   "execution_count": 166,
   "id": "21fa4786-fd87-4d0c-b050-bdad4382ec5e",
   "metadata": {},
   "outputs": [
    {
     "data": {
      "text/plain": [
       "[0, 2, 4, 6, 8, 10, 12, 14, 16, 18]"
      ]
     },
     "execution_count": 166,
     "metadata": {},
     "output_type": "execute_result"
    }
   ],
   "source": [
    "num=[x*2 for x in range(10)]\n",
    "num"
   ]
  },
  {
   "cell_type": "code",
   "execution_count": null,
   "id": "bba8e8e8-3336-4428-8183-a7a0f84796ab",
   "metadata": {},
   "outputs": [],
   "source": [
    " "
   ]
  }
 ],
 "metadata": {
  "kernelspec": {
   "display_name": "Python 3 (ipykernel)",
   "language": "python",
   "name": "python3"
  },
  "language_info": {
   "codemirror_mode": {
    "name": "ipython",
    "version": 3
   },
   "file_extension": ".py",
   "mimetype": "text/x-python",
   "name": "python",
   "nbconvert_exporter": "python",
   "pygments_lexer": "ipython3",
   "version": "3.12.4"
  }
 },
 "nbformat": 4,
 "nbformat_minor": 5
}
